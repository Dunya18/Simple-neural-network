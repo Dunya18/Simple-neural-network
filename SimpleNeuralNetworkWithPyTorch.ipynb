{
  "nbformat": 4,
  "nbformat_minor": 0,
  "metadata": {
    "colab": {
      "name": "SimpleNeuralNetworkWithPyTorch.ipynb",
      "provenance": [],
      "collapsed_sections": [
        "4-3iukyQUUSn",
        "zGTWA8SdVC3n"
      ],
      "toc_visible": true,
      "authorship_tag": "ABX9TyO5vrLZNStw8ZtX2CTyGVRY",
      "include_colab_link": true
    },
    "kernelspec": {
      "name": "python3",
      "display_name": "Python 3"
    },
    "language_info": {
      "name": "python"
    }
  },
  "cells": [
    {
      "cell_type": "markdown",
      "metadata": {
        "id": "view-in-github",
        "colab_type": "text"
      },
      "source": [
        "<a href=\"https://colab.research.google.com/github/Dunya18/Simple-neural-network/blob/main/SimpleNeuralNetworkWithPyTorch.ipynb\" target=\"_parent\"><img src=\"https://colab.research.google.com/assets/colab-badge.svg\" alt=\"Open In Colab\"/></a>"
      ]
    },
    {
      "cell_type": "markdown",
      "source": [
        "# Import Python modules"
      ],
      "metadata": {
        "id": "e1Jazzr5H2Dr"
      }
    },
    {
      "cell_type": "code",
      "source": [
        "import torch # to create tensors to store all numerical data values including raw data, weight, bias .. \n",
        "import torch.nn as nn # to make weight and bias tensors part of the nn\n",
        "import torch.nn.functional as F # for activation functions\n",
        "from torch.optim import SGD # short for Stochastic Gradient Descent \n",
        "\n",
        "import matplotlib.pyplot as plt\n",
        "import seaborn as sns"
      ],
      "metadata": {
        "id": "N5BB-7vyH8Ax"
      },
      "execution_count": null,
      "outputs": []
    },
    {
      "cell_type": "markdown",
      "source": [
        "# Creating new neural network with optimal values"
      ],
      "metadata": {
        "id": "EryJe6ClJcVx"
      }
    },
    {
      "cell_type": "code",
      "source": [
        "class BasicNN(nn.Module):\n",
        "  \n",
        "  def __init__(self):\n",
        "    super().__init__()\n",
        "    # initialize weights and biases\n",
        "    self.w00 = nn.Parameter(torch.tensor(1.7),requires_grad=False)\n",
        "    self.b00 = nn.Parameter(torch.tensor(-0.85),requires_grad=False)\n",
        "    self.w01 = nn.Parameter(torch.tensor(-40.8),requires_grad=False)\n",
        "\n",
        "    self.w10 = nn.Parameter(torch.tensor(12.6),requires_grad=False)\n",
        "    self.b10 = nn.Parameter(torch.tensor(0.0),requires_grad=False)\n",
        "    self.w11 = nn.Parameter(torch.tensor(2.7),requires_grad=False)\n",
        "\n",
        "    self.final_bias = nn.Parameter(torch.tensor(-16.),requires_grad=False)\n",
        "\n",
        "# now we need to connect them to the input, activation functions and the output\n",
        "# in other words, we create a forward pass through the nn that we initialized\n",
        "  def forward(self, input):\n",
        "    # connect the input to the activation function on top\n",
        "    input_to_top_relu = input*self.w00 + self.b00\n",
        "    top_relu_output = F.relu(input_to_top_relu)\n",
        "    scaled_top_relu_output = top_relu_output*self.w01\n",
        "\n",
        "    # connect the input to the activation function on bottom\n",
        "    input_to_bottom_relu = input*self.w10 + self.b10\n",
        "    bottom_relu_output = F.relu(input_to_bottom_relu)\n",
        "    scaled_bottom_relu_output = bottom_relu_output*self.w11\n",
        "\n",
        "    input_to_final_relu = scaled_top_relu_output + scaled_bottom_relu_output + self.final_bias\n",
        "    output = F.relu(input_to_final_relu)\n",
        "\n",
        "    return output\n",
        "\n",
        "\n",
        "\n",
        "\n",
        "    "
      ],
      "metadata": {
        "id": "9NMgS80bJlAV"
      },
      "execution_count": null,
      "outputs": []
    },
    {
      "cell_type": "markdown",
      "source": [
        "**Testing if forward function works correctly**"
      ],
      "metadata": {
        "id": "PiTL4sJYR7SA"
      }
    },
    {
      "cell_type": "code",
      "source": [
        "input_doses = torch.linspace(start=0, end = 1, steps = 11)\n",
        "# we use model and nn interchangebly\n",
        "model = BasicNN()\n",
        "output_values = model(input_doses)\n",
        "sns.set(style=\"whitegrid\")\n",
        "sns.lineplot(x=input_doses,\n",
        "                 y=output_values,\n",
        "                 color='green',\n",
        "                 linewidth=2.5)\n",
        "plt.ylab = \"Effectiveness\"\n",
        "plt.xlab = \"Dose\""
      ],
      "metadata": {
        "colab": {
          "base_uri": "https://localhost:8080/",
          "height": 268
        },
        "id": "rAzeOi--RqxR",
        "outputId": "df9fe5e9-5b96-49f9-d15e-13acb61a006b"
      },
      "execution_count": null,
      "outputs": [
        {
          "output_type": "display_data",
          "data": {
            "text/plain": [
              "<Figure size 432x288 with 1 Axes>"
            ],
            "image/png": "[encoded data removed]"
          },
          "metadata": {}
        }
      ]
    },
    {
      "cell_type": "markdown",
      "source": [
        "# Creating the training class"
      ],
      "metadata": {
        "id": "4-3iukyQUUSn"
      }
    },
    {
      "cell_type": "code",
      "source": [
        "class BasicNN_train(nn.Module):\n",
        "  \n",
        "  def __init__(self):\n",
        "    super().__init__()\n",
        "    # initialize weights and biases\n",
        "    self.w00 = nn.Parameter(torch.tensor(1.7),requires_grad=False)\n",
        "    self.b00 = nn.Parameter(torch.tensor(-0.85),requires_grad=False)\n",
        "    self.w01 = nn.Parameter(torch.tensor(-40.8),requires_grad=False)\n",
        "\n",
        "    self.w10 = nn.Parameter(torch.tensor(12.6),requires_grad=False)\n",
        "    self.b10 = nn.Parameter(torch.tensor(0.0),requires_grad=False)\n",
        "    self.w11 = nn.Parameter(torch.tensor(2.7),requires_grad=False)\n",
        "\n",
        "    self.final_bias = nn.Parameter(torch.tensor(0.),requires_grad=True)\n",
        "\n",
        "# now we need to connect them to the input, activation functions and the output\n",
        "# in other words, we create a forward pass through the nn that we initialized\n",
        "  def forward(self, input):\n",
        "    # connect the input to the activation function on top\n",
        "    input_to_top_relu = input*self.w00 + self.b00\n",
        "    top_relu_output = F.relu(input_to_top_relu)\n",
        "    scaled_top_relu_output = top_relu_output*self.w01\n",
        "\n",
        "    # connect the input to the activation function on bottom\n",
        "    input_to_bottom_relu = input*self.w10 + self.b10\n",
        "    bottom_relu_output = F.relu(input_to_bottom_relu)\n",
        "    scaled_bottom_relu_output = bottom_relu_output*self.w11\n",
        "\n",
        "    input_to_final_relu = scaled_top_relu_output + scaled_bottom_relu_output + self.final_bias\n",
        "    output = F.relu(input_to_final_relu)\n",
        "\n",
        "    return output\n",
        "\n",
        "\n",
        "\n",
        "\n",
        "    "
      ],
      "metadata": {
        "id": "FSQg0-nVUdHx"
      },
      "execution_count": null,
      "outputs": []
    },
    {
      "cell_type": "markdown",
      "source": [
        "# Optimizing a parameter with backpropagation"
      ],
      "metadata": {
        "id": "ouroDc2yWa1a"
      }
    },
    {
      "cell_type": "code",
      "source": [
        "from torch.optim.optimizer import Optimizer\n",
        "# class & data we gonna test\n",
        "input_doses = torch.linspace(start=0, end = 1, steps = 11)\n",
        "model = BasicNN_train()\n",
        "# create training data\n",
        "inputs = torch.tensor([0., 0.5, 1.])\n",
        "labels = torch.tensor([0.,1.,0.]) # it has the observed output values\n",
        "\n",
        "# pass model.paramters to SGD() which will optimize every parameter that we set require_grad = true\n",
        "# set learning rate to 0.1\n",
        "optimizer = SGD(model.parameters(), lr= 0.1)\n",
        "print(\"Final bias, before optimization : \" +str(model.final_bias)+ \"\\n\")\n",
        "\n",
        "# epoch stands for : everytime our training data run through our model\n",
        "for epoch in range(100):\n",
        "\n",
        "  total_loss = 0 # store the loss, which is a measure for how well the model fits the data\n",
        "  # nested loops that runs each data point from the training data through the model and calculate the loss\n",
        "  for iterations in range(len(inputs)):\n",
        "    input_i = inputs[iterations]\n",
        "    label_i = labels[iterations]\n",
        "    \n",
        "    output_i = model(input_i)\n",
        "    # we calculate the loss between the predicted value and the known label with a loss function\n",
        "    # we choose the squared residual\n",
        "    loss = (output_i - label_i)**2\n",
        "    # calculate the derivative of the loss function with respect to the parameter we want to optimize \n",
        "    loss.backward() # at the second iteration, the new derivative is added to the old one (calculated at the first iteration) et ainsi de suite ..\n",
        "    # add the squared residual to total loss as a track to how well the data fits\n",
        "    total_loss += float(loss)\n",
        "\n",
        "  # out of the nested loop\n",
        "  # check if loss is really small\n",
        "  #if so, the model fits the training data and we can stop training\n",
        "  if(total_loss <0.0001):\n",
        "    print(\"Num steps : \" + str(epoch))\n",
        "    break\n",
        "\n",
        "\n",
        "  # othrewise, if total_loss is not small, then we take a small step towards a better value of b final\n",
        "  optimizer.step()\n",
        "  # we reset the derivative that we stored in model ** loss backward**\n",
        "  optimizer.zero_grad()\n",
        "\n",
        "  print(\"actual step : \"+ str(epoch)+ \"\\n Final bias for the moment : \" + str(model.final_bias) + \"\\n\")\n",
        "\n",
        "\n",
        "# result graph\n",
        "output_values = model(input_doses)\n",
        "sns.set(style=\"whitegrid\")\n",
        "sns.lineplot(x=input_doses,\n",
        "                 y=output_values.detach(),\n",
        "                 color='green',\n",
        "                 linewidth=2.5)\n",
        "plt.ylab = \"Effectiveness\"\n",
        "plt.xlab = \"Dose\"\n"
      ],
      "metadata": {
        "colab": {
          "base_uri": "https://localhost:8080/",
          "height": 1000
        },
        "id": "w5kStRFxWhsq",
        "outputId": "a7f77c81-37c2-496b-dbc6-28b708ccb6f5"
      },
      "execution_count": null,
      "outputs": [
        {
          "output_type": "stream",
          "name": "stdout",
          "text": [
            "Final bias, before optimization : Parameter containing:\n",
            "tensor(0., requires_grad=True)\n",
            "\n",
            "actual step : 0\n",
            " Final bias for the moment : Parameter containing:\n",
            "tensor(-3.2020, requires_grad=True)\n",
            "\n",
            "actual step : 1\n",
            " Final bias for the moment : Parameter containing:\n",
            "tensor(-5.7636, requires_grad=True)\n",
            "\n",
            "actual step : 2\n",
            " Final bias for the moment : Parameter containing:\n",
            "tensor(-7.8129, requires_grad=True)\n",
            "\n",
            "actual step : 3\n",
            " Final bias for the moment : Parameter containing:\n",
            "tensor(-9.4523, requires_grad=True)\n",
            "\n",
            "actual step : 4\n",
            " Final bias for the moment : Parameter containing:\n",
            "tensor(-10.7638, requires_grad=True)\n",
            "\n",
            "actual step : 5\n",
            " Final bias for the moment : Parameter containing:\n",
            "tensor(-11.8131, requires_grad=True)\n",
            "\n",
            "actual step : 6\n",
            " Final bias for the moment : Parameter containing:\n",
            "tensor(-12.6525, requires_grad=True)\n",
            "\n",
            "actual step : 7\n",
            " Final bias for the moment : Parameter containing:\n",
            "tensor(-13.3240, requires_grad=True)\n",
            "\n",
            "actual step : 8\n",
            " Final bias for the moment : Parameter containing:\n",
            "tensor(-13.8612, requires_grad=True)\n",
            "\n",
            "actual step : 9\n",
            " Final bias for the moment : Parameter containing:\n",
            "tensor(-14.2909, requires_grad=True)\n",
            "\n",
            "actual step : 10\n",
            " Final bias for the moment : Parameter containing:\n",
            "tensor(-14.6348, requires_grad=True)\n",
            "\n",
            "actual step : 11\n",
            " Final bias for the moment : Parameter containing:\n",
            "tensor(-14.9098, requires_grad=True)\n",
            "\n",
            "actual step : 12\n",
            " Final bias for the moment : Parameter containing:\n",
            "tensor(-15.1298, requires_grad=True)\n",
            "\n",
            "actual step : 13\n",
            " Final bias for the moment : Parameter containing:\n",
            "tensor(-15.3059, requires_grad=True)\n",
            "\n",
            "actual step : 14\n",
            " Final bias for the moment : Parameter containing:\n",
            "tensor(-15.4467, requires_grad=True)\n",
            "\n",
            "actual step : 15\n",
            " Final bias for the moment : Parameter containing:\n",
            "tensor(-15.5594, requires_grad=True)\n",
            "\n",
            "actual step : 16\n",
            " Final bias for the moment : Parameter containing:\n",
            "tensor(-15.6495, requires_grad=True)\n",
            "\n",
            "actual step : 17\n",
            " Final bias for the moment : Parameter containing:\n",
            "tensor(-15.7216, requires_grad=True)\n",
            "\n",
            "actual step : 18\n",
            " Final bias for the moment : Parameter containing:\n",
            "tensor(-15.7793, requires_grad=True)\n",
            "\n",
            "actual step : 19\n",
            " Final bias for the moment : Parameter containing:\n",
            "tensor(-15.8254, requires_grad=True)\n",
            "\n",
            "actual step : 20\n",
            " Final bias for the moment : Parameter containing:\n",
            "tensor(-15.8623, requires_grad=True)\n",
            "\n",
            "actual step : 21\n",
            " Final bias for the moment : Parameter containing:\n",
            "tensor(-15.8919, requires_grad=True)\n",
            "\n",
            "actual step : 22\n",
            " Final bias for the moment : Parameter containing:\n",
            "tensor(-15.9155, requires_grad=True)\n",
            "\n",
            "actual step : 23\n",
            " Final bias for the moment : Parameter containing:\n",
            "tensor(-15.9344, requires_grad=True)\n",
            "\n",
            "actual step : 24\n",
            " Final bias for the moment : Parameter containing:\n",
            "tensor(-15.9495, requires_grad=True)\n",
            "\n",
            "actual step : 25\n",
            " Final bias for the moment : Parameter containing:\n",
            "tensor(-15.9616, requires_grad=True)\n",
            "\n",
            "actual step : 26\n",
            " Final bias for the moment : Parameter containing:\n",
            "tensor(-15.9713, requires_grad=True)\n",
            "\n",
            "actual step : 27\n",
            " Final bias for the moment : Parameter containing:\n",
            "tensor(-15.9790, requires_grad=True)\n",
            "\n",
            "actual step : 28\n",
            " Final bias for the moment : Parameter containing:\n",
            "tensor(-15.9852, requires_grad=True)\n",
            "\n",
            "actual step : 29\n",
            " Final bias for the moment : Parameter containing:\n",
            "tensor(-15.9902, requires_grad=True)\n",
            "\n",
            "actual step : 30\n",
            " Final bias for the moment : Parameter containing:\n",
            "tensor(-15.9941, requires_grad=True)\n",
            "\n",
            "actual step : 31\n",
            " Final bias for the moment : Parameter containing:\n",
            "tensor(-15.9973, requires_grad=True)\n",
            "\n",
            "actual step : 32\n",
            " Final bias for the moment : Parameter containing:\n",
            "tensor(-15.9999, requires_grad=True)\n",
            "\n",
            "actual step : 33\n",
            " Final bias for the moment : Parameter containing:\n",
            "tensor(-16.0019, requires_grad=True)\n",
            "\n",
            "Num steps : 34\n"
          ]
        },
        {
          "output_type": "display_data",
          "data": {
            "text/plain": [
              "<Figure size 432x288 with 1 Axes>"
            ],
            "image/png": "[encoded data removed]"
          },
          "metadata": {}
        }
      ]
    },
    {
      "cell_type": "markdown",
      "source": [
        "# Testing with the training class"
      ],
      "metadata": {
        "id": "zGTWA8SdVC3n"
      }
    },
    {
      "cell_type": "code",
      "source": [
        "output_values = model(input_doses)\n",
        "sns.set(style=\"whitegrid\")\n",
        "sns.lineplot(x=input_doses,\n",
        "                 y=output_values.detach(),\n",
        "                 color='green',\n",
        "                 linewidth=2.5)\n",
        "plt.ylab = \"Effectiveness\"\n",
        "plt.xlab = \"Dose\""
      ],
      "metadata": {
        "colab": {
          "base_uri": "https://localhost:8080/",
          "height": 268
        },
        "id": "VI7U5bWNVF9Q",
        "outputId": "2eabca1c-e247-44c7-ff46-6aa0afec1095"
      },
      "execution_count": null,
      "outputs": [
        {
          "output_type": "display_data",
          "data": {
            "text/plain": [
              "<Figure size 432x288 with 1 Axes>"
            ],
            "image/png": "[encoded data removed]"
          },
          "metadata": {}
        }
      ]
    }
  ]
}